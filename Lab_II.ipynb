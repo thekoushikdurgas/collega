{
  "nbformat": 4,
  "nbformat_minor": 0,
  "metadata": {
    "colab": {
      "name": "Lab-II.ipynb",
      "provenance": [],
      "collapsed_sections": [],
      "include_colab_link": true
    },
    "kernelspec": {
      "name": "python3",
      "display_name": "Python 3"
    }
  },
  "cells": [
    {
      "cell_type": "markdown",
      "metadata": {
        "id": "view-in-github",
        "colab_type": "text"
      },
      "source": [
        "<a href=\"https://colab.research.google.com/github/thekoushikdurgas/collega/blob/master/Lab_II.ipynb\" target=\"_parent\"><img src=\"https://colab.research.google.com/assets/colab-badge.svg\" alt=\"Open In Colab\"/></a>"
      ]
    },
    {
      "cell_type": "code",
      "metadata": {
        "id": "snZCeNEJfDa3",
        "colab_type": "code",
        "colab": {
          "base_uri": "https://localhost:8080/",
          "height": 322
        },
        "outputId": "6f19f165-e0f1-4c50-875a-68aab2c1a98d"
      },
      "source": [
        "!wget \"https://drive.google.com/uc?export=download&id=1j7T60eefZWkgc6gnlfUpL_QR9a7311zG\" -O \"eeg_data.csv\""
      ],
      "execution_count": null,
      "outputs": [
        {
          "output_type": "stream",
          "text": [
            "--2020-08-28 06:31:32--  https://drive.google.com/uc?export=download&id=1j7T60eefZWkgc6gnlfUpL_QR9a7311zG\n",
            "Resolving drive.google.com (drive.google.com)... 64.233.188.100, 64.233.188.102, 64.233.188.101, ...\n",
            "Connecting to drive.google.com (drive.google.com)|64.233.188.100|:443... connected.\n",
            "HTTP request sent, awaiting response... 302 Moved Temporarily\n",
            "Location: https://doc-0k-50-docs.googleusercontent.com/docs/securesc/ha0ro937gcuc7l7deffksulhg5h7mbp1/8hhf55tos0eptv17o2uukqt53acg6ne0/1598596275000/17459017954710433412/*/1j7T60eefZWkgc6gnlfUpL_QR9a7311zG?e=download [following]\n",
            "Warning: wildcards not supported in HTTP.\n",
            "--2020-08-28 06:31:35--  https://doc-0k-50-docs.googleusercontent.com/docs/securesc/ha0ro937gcuc7l7deffksulhg5h7mbp1/8hhf55tos0eptv17o2uukqt53acg6ne0/1598596275000/17459017954710433412/*/1j7T60eefZWkgc6gnlfUpL_QR9a7311zG?e=download\n",
            "Resolving doc-0k-50-docs.googleusercontent.com (doc-0k-50-docs.googleusercontent.com)... 64.233.187.132, 2404:6800:4008:c05::84\n",
            "Connecting to doc-0k-50-docs.googleusercontent.com (doc-0k-50-docs.googleusercontent.com)|64.233.187.132|:443... connected.\n",
            "HTTP request sent, awaiting response... 200 OK\n",
            "Length: unspecified [text/csv]\n",
            "Saving to: ‘eeg_data.csv’\n",
            "\n",
            "eeg_data.csv            [    <=>             ]  75.20M   105MB/s    in 0.7s    \n",
            "\n",
            "2020-08-28 06:31:36 (105 MB/s) - ‘eeg_data.csv’ saved [78856118]\n",
            "\n"
          ],
          "name": "stdout"
        }
      ]
    },
    {
      "cell_type": "markdown",
      "metadata": {
        "id": "sXp0iPqJv2Q0",
        "colab_type": "text"
      },
      "source": [
        "# <a id='intro'> Data Description</a>\n",
        "\n",
        "The [EEG-Alcohol](https://www.kaggle.com/nnair25/Alcoholics) dataset, contains [EEG (Electroencephalography)](https://en.wikipedia.org/wiki/Electroencephalography) data for two groups - Alcoholic and Control Group. \n",
        "![](https://i.imgur.com/ZrmxJRu.jpg)\n",
        "\n",
        "There are two groups of subjects: alcoholic and control. In both groups,\n",
        "there are 10 subjects and each subject completed 10 trials. The 64 electrodes were placed on subject's scalps to measure the electrical activity of the brain. The response values were sampled at 256 Hz (3.9-msec epoch) for 1 second. Each subject was exposed to either a single stimulus (S1) or to two stimuli (S1 and S2) which were pictures of objects chosen from the [1980 Snodgrass and Vanderwart picture set](http://citeseerx.ist.psu.edu/viewdoc/download?doi=10.1.1.294.1979&rep=rep1&type=pdf). When two stimuli were shown, they were presented in either a matched condition where S1 was identical to S2 or in a non-matched condition where S1 differed from S2.\n",
        "\n",
        "The purpose of the analysis is to find out if there is a difference in response values for different stimuli between control and alcoholic group. "
      ]
    },
    {
      "cell_type": "code",
      "metadata": {
        "id": "2az5SBYevao3",
        "colab_type": "code",
        "colab": {
          "base_uri": "https://localhost:8080/",
          "height": 71
        },
        "outputId": "581af910-4fbd-4887-e889-645041742695"
      },
      "source": [
        "import numpy as np\n",
        "import pandas as pd \n",
        "import os\n",
        "import random\n",
        "from tqdm import tqdm\n",
        "import matplotlib\n",
        "import seaborn as sns\n",
        "import matplotlib.pyplot as plt\n",
        "import plotly.graph_objs as go\n",
        "from plotly.offline import init_notebook_mode, iplot\n",
        "from plotly import tools\n",
        "from scipy.stats import mannwhitneyu\n",
        "from sklearn.model_selection import train_test_split\n",
        "from sklearn.metrics import classification_report,accuracy_score\n",
        "%matplotlib inline\n",
        "init_notebook_mode(connected=True) ## plotly init\n",
        "seed = 123\n",
        "random.seed = seed\n",
        "import tensorflow as tf\n",
        "from sklearn.ensemble import RandomForestClassifier"
      ],
      "execution_count": null,
      "outputs": [
        {
          "output_type": "stream",
          "text": [
            "/usr/local/lib/python3.6/dist-packages/statsmodels/tools/_testing.py:19: FutureWarning: pandas.util.testing is deprecated. Use the functions in the public API at pandas.testing instead.\n",
            "  import pandas.util.testing as tm\n"
          ],
          "name": "stderr"
        },
        {
          "output_type": "display_data",
          "data": {
            "text/html": [
              "        <script type=\"text/javascript\">\n",
              "        window.PlotlyConfig = {MathJaxConfig: 'local'};\n",
              "        if (window.MathJax) {MathJax.Hub.Config({SVG: {font: \"STIX-Web\"}});}\n",
              "        if (typeof require !== 'undefined') {\n",
              "        require.undef(\"plotly\");\n",
              "        requirejs.config({\n",
              "            paths: {\n",
              "                'plotly': ['https://cdn.plot.ly/plotly-latest.min']\n",
              "            }\n",
              "        });\n",
              "        require(['plotly'], function(Plotly) {\n",
              "            window._Plotly = Plotly;\n",
              "        });\n",
              "        }\n",
              "        </script>\n",
              "        "
            ]
          },
          "metadata": {
            "tags": []
          }
        }
      ]
    },
    {
      "cell_type": "code",
      "metadata": {
        "id": "Im4SFMNUwwax",
        "colab_type": "code",
        "colab": {}
      },
      "source": [
        "EEG_data = pd.read_csv(\"eeg_data.csv\")"
      ],
      "execution_count": null,
      "outputs": []
    },
    {
      "cell_type": "code",
      "metadata": {
        "id": "GYtRuEKOxBHe",
        "colab_type": "code",
        "colab": {
          "base_uri": "https://localhost:8080/",
          "height": 257
        },
        "outputId": "f46c463b-5034-4e93-aca2-8350adb70562"
      },
      "source": [
        "EEG_data.head()"
      ],
      "execution_count": null,
      "outputs": [
        {
          "output_type": "execute_result",
          "data": {
            "text/html": [
              "<div>\n",
              "<style scoped>\n",
              "    .dataframe tbody tr th:only-of-type {\n",
              "        vertical-align: middle;\n",
              "    }\n",
              "\n",
              "    .dataframe tbody tr th {\n",
              "        vertical-align: top;\n",
              "    }\n",
              "\n",
              "    .dataframe thead th {\n",
              "        text-align: right;\n",
              "    }\n",
              "</style>\n",
              "<table border=\"1\" class=\"dataframe\">\n",
              "  <thead>\n",
              "    <tr style=\"text-align: right;\">\n",
              "      <th></th>\n",
              "      <th>subject identifier</th>\n",
              "      <th>time</th>\n",
              "      <th>AF1</th>\n",
              "      <th>AF2</th>\n",
              "      <th>AF7</th>\n",
              "      <th>AF8</th>\n",
              "      <th>AFZ</th>\n",
              "      <th>C1</th>\n",
              "      <th>C2</th>\n",
              "      <th>C3</th>\n",
              "      <th>C4</th>\n",
              "      <th>C5</th>\n",
              "      <th>C6</th>\n",
              "      <th>CP1</th>\n",
              "      <th>CP2</th>\n",
              "      <th>CP3</th>\n",
              "      <th>CP4</th>\n",
              "      <th>CP5</th>\n",
              "      <th>CP6</th>\n",
              "      <th>CPZ</th>\n",
              "      <th>CZ</th>\n",
              "      <th>F1</th>\n",
              "      <th>F2</th>\n",
              "      <th>F3</th>\n",
              "      <th>F4</th>\n",
              "      <th>F5</th>\n",
              "      <th>F6</th>\n",
              "      <th>F7</th>\n",
              "      <th>F8</th>\n",
              "      <th>FC1</th>\n",
              "      <th>FC2</th>\n",
              "      <th>FC3</th>\n",
              "      <th>FC4</th>\n",
              "      <th>FC5</th>\n",
              "      <th>FC6</th>\n",
              "      <th>FCZ</th>\n",
              "      <th>FP1</th>\n",
              "      <th>FP2</th>\n",
              "      <th>FPZ</th>\n",
              "      <th>FT7</th>\n",
              "      <th>FT8</th>\n",
              "      <th>FZ</th>\n",
              "      <th>O1</th>\n",
              "      <th>O2</th>\n",
              "      <th>OZ</th>\n",
              "      <th>P1</th>\n",
              "      <th>P2</th>\n",
              "      <th>P3</th>\n",
              "      <th>P4</th>\n",
              "      <th>P5</th>\n",
              "      <th>P6</th>\n",
              "      <th>P7</th>\n",
              "      <th>P8</th>\n",
              "      <th>PO1</th>\n",
              "      <th>PO2</th>\n",
              "      <th>PO7</th>\n",
              "      <th>PO8</th>\n",
              "      <th>POZ</th>\n",
              "      <th>PZ</th>\n",
              "      <th>T7</th>\n",
              "      <th>T8</th>\n",
              "      <th>TP7</th>\n",
              "      <th>TP8</th>\n",
              "      <th>X</th>\n",
              "      <th>Y</th>\n",
              "      <th>nd</th>\n",
              "      <th>matching condition_S1 obj</th>\n",
              "      <th>matching condition_S2 match</th>\n",
              "      <th>matching condition_S2 nomatch</th>\n",
              "    </tr>\n",
              "  </thead>\n",
              "  <tbody>\n",
              "    <tr>\n",
              "      <th>0</th>\n",
              "      <td>a</td>\n",
              "      <td>0.582031</td>\n",
              "      <td>-0.193</td>\n",
              "      <td>-0.865</td>\n",
              "      <td>-1.872</td>\n",
              "      <td>-4.211</td>\n",
              "      <td>-0.417</td>\n",
              "      <td>-0.590</td>\n",
              "      <td>-0.092</td>\n",
              "      <td>-2.706</td>\n",
              "      <td>-1.231</td>\n",
              "      <td>-2.340</td>\n",
              "      <td>-4.201</td>\n",
              "      <td>-2.126</td>\n",
              "      <td>2.014</td>\n",
              "      <td>0.651</td>\n",
              "      <td>-6.561</td>\n",
              "      <td>-2.625</td>\n",
              "      <td>-5.229</td>\n",
              "      <td>-3.143</td>\n",
              "      <td>-10.813</td>\n",
              "      <td>1.078</td>\n",
              "      <td>-0.895</td>\n",
              "      <td>-0.468</td>\n",
              "      <td>-1.841</td>\n",
              "      <td>-3.174</td>\n",
              "      <td>-1.607</td>\n",
              "      <td>-5.025</td>\n",
              "      <td>-6.694</td>\n",
              "      <td>4.333</td>\n",
              "      <td>-1.668</td>\n",
              "      <td>-1.261</td>\n",
              "      <td>-2.116</td>\n",
              "      <td>-2.523</td>\n",
              "      <td>-5.015</td>\n",
              "      <td>1.628</td>\n",
              "      <td>-30.396</td>\n",
              "      <td>2.787</td>\n",
              "      <td>-0.529</td>\n",
              "      <td>-3.733</td>\n",
              "      <td>-10.925</td>\n",
              "      <td>-1.017</td>\n",
              "      <td>-5.951</td>\n",
              "      <td>-13.072</td>\n",
              "      <td>-8.911</td>\n",
              "      <td>-9.308</td>\n",
              "      <td>-3.103</td>\n",
              "      <td>-6.256</td>\n",
              "      <td>-8.301</td>\n",
              "      <td>-7.375</td>\n",
              "      <td>-10.529</td>\n",
              "      <td>-6.836</td>\n",
              "      <td>-11.627</td>\n",
              "      <td>-7.731</td>\n",
              "      <td>-7.650</td>\n",
              "      <td>-10.966</td>\n",
              "      <td>-14.791</td>\n",
              "      <td>-6.571</td>\n",
              "      <td>-4.842</td>\n",
              "      <td>-5.330</td>\n",
              "      <td>-13.418</td>\n",
              "      <td>-8.881</td>\n",
              "      <td>-10.254</td>\n",
              "      <td>-8.118</td>\n",
              "      <td>-12.604</td>\n",
              "      <td>-3.591</td>\n",
              "      <td>0</td>\n",
              "      <td>1</td>\n",
              "      <td>0</td>\n",
              "    </tr>\n",
              "    <tr>\n",
              "      <th>1</th>\n",
              "      <td>c</td>\n",
              "      <td>0.328125</td>\n",
              "      <td>-2.330</td>\n",
              "      <td>0.254</td>\n",
              "      <td>-4.435</td>\n",
              "      <td>1.801</td>\n",
              "      <td>-1.638</td>\n",
              "      <td>-9.033</td>\n",
              "      <td>3.265</td>\n",
              "      <td>-18.127</td>\n",
              "      <td>2.808</td>\n",
              "      <td>-14.425</td>\n",
              "      <td>-13.570</td>\n",
              "      <td>-4.720</td>\n",
              "      <td>-4.038</td>\n",
              "      <td>-7.812</td>\n",
              "      <td>-6.571</td>\n",
              "      <td>-19.063</td>\n",
              "      <td>-5.503</td>\n",
              "      <td>-1.078</td>\n",
              "      <td>0.814</td>\n",
              "      <td>-2.848</td>\n",
              "      <td>-1.801</td>\n",
              "      <td>-5.117</td>\n",
              "      <td>-2.563</td>\n",
              "      <td>-9.745</td>\n",
              "      <td>-3.591</td>\n",
              "      <td>-7.507</td>\n",
              "      <td>-0.590</td>\n",
              "      <td>-2.004</td>\n",
              "      <td>-3.520</td>\n",
              "      <td>-9.735</td>\n",
              "      <td>-6.673</td>\n",
              "      <td>-12.217</td>\n",
              "      <td>-9.125</td>\n",
              "      <td>-0.956</td>\n",
              "      <td>1.658</td>\n",
              "      <td>2.075</td>\n",
              "      <td>4.720</td>\n",
              "      <td>-13.306</td>\n",
              "      <td>-6.287</td>\n",
              "      <td>-2.065</td>\n",
              "      <td>-13.662</td>\n",
              "      <td>-14.872</td>\n",
              "      <td>-11.139</td>\n",
              "      <td>-2.787</td>\n",
              "      <td>-5.096</td>\n",
              "      <td>-4.028</td>\n",
              "      <td>-6.327</td>\n",
              "      <td>-4.262</td>\n",
              "      <td>-7.762</td>\n",
              "      <td>-14.781</td>\n",
              "      <td>-11.993</td>\n",
              "      <td>-10.071</td>\n",
              "      <td>-6.205</td>\n",
              "      <td>-18.555</td>\n",
              "      <td>-4.690</td>\n",
              "      <td>-2.797</td>\n",
              "      <td>-2.736</td>\n",
              "      <td>-17.639</td>\n",
              "      <td>-14.211</td>\n",
              "      <td>-19.246</td>\n",
              "      <td>-9.715</td>\n",
              "      <td>3.143</td>\n",
              "      <td>-18.392</td>\n",
              "      <td>1.485</td>\n",
              "      <td>0</td>\n",
              "      <td>1</td>\n",
              "      <td>0</td>\n",
              "    </tr>\n",
              "    <tr>\n",
              "      <th>2</th>\n",
              "      <td>c</td>\n",
              "      <td>0.906250</td>\n",
              "      <td>-2.462</td>\n",
              "      <td>-1.516</td>\n",
              "      <td>5.066</td>\n",
              "      <td>7.222</td>\n",
              "      <td>-2.777</td>\n",
              "      <td>-1.119</td>\n",
              "      <td>2.452</td>\n",
              "      <td>3.499</td>\n",
              "      <td>-0.031</td>\n",
              "      <td>1.302</td>\n",
              "      <td>0.122</td>\n",
              "      <td>1.414</td>\n",
              "      <td>1.495</td>\n",
              "      <td>1.129</td>\n",
              "      <td>5.005</td>\n",
              "      <td>5.514</td>\n",
              "      <td>6.276</td>\n",
              "      <td>1.872</td>\n",
              "      <td>19.318</td>\n",
              "      <td>-2.319</td>\n",
              "      <td>-4.781</td>\n",
              "      <td>-2.360</td>\n",
              "      <td>-3.621</td>\n",
              "      <td>1.719</td>\n",
              "      <td>-2.604</td>\n",
              "      <td>4.008</td>\n",
              "      <td>1.984</td>\n",
              "      <td>-2.289</td>\n",
              "      <td>-2.543</td>\n",
              "      <td>-0.885</td>\n",
              "      <td>-4.242</td>\n",
              "      <td>2.126</td>\n",
              "      <td>1.190</td>\n",
              "      <td>-1.058</td>\n",
              "      <td>3.479</td>\n",
              "      <td>4.313</td>\n",
              "      <td>1.882</td>\n",
              "      <td>3.092</td>\n",
              "      <td>1.912</td>\n",
              "      <td>-6.602</td>\n",
              "      <td>9.735</td>\n",
              "      <td>3.530</td>\n",
              "      <td>10.061</td>\n",
              "      <td>1.312</td>\n",
              "      <td>2.584</td>\n",
              "      <td>2.248</td>\n",
              "      <td>5.717</td>\n",
              "      <td>1.933</td>\n",
              "      <td>5.188</td>\n",
              "      <td>3.652</td>\n",
              "      <td>9.013</td>\n",
              "      <td>3.286</td>\n",
              "      <td>2.594</td>\n",
              "      <td>-1.831</td>\n",
              "      <td>-5.625</td>\n",
              "      <td>6.175</td>\n",
              "      <td>2.085</td>\n",
              "      <td>3.408</td>\n",
              "      <td>2.665</td>\n",
              "      <td>3.611</td>\n",
              "      <td>6.887</td>\n",
              "      <td>25.625</td>\n",
              "      <td>11.719</td>\n",
              "      <td>3.794</td>\n",
              "      <td>1</td>\n",
              "      <td>0</td>\n",
              "      <td>0</td>\n",
              "    </tr>\n",
              "    <tr>\n",
              "      <th>3</th>\n",
              "      <td>a</td>\n",
              "      <td>0.437500</td>\n",
              "      <td>-3.937</td>\n",
              "      <td>-4.232</td>\n",
              "      <td>-4.730</td>\n",
              "      <td>-5.575</td>\n",
              "      <td>-4.181</td>\n",
              "      <td>1.577</td>\n",
              "      <td>-1.689</td>\n",
              "      <td>0.936</td>\n",
              "      <td>-2.858</td>\n",
              "      <td>-1.495</td>\n",
              "      <td>-4.506</td>\n",
              "      <td>1.180</td>\n",
              "      <td>-0.539</td>\n",
              "      <td>-0.275</td>\n",
              "      <td>-2.726</td>\n",
              "      <td>-2.401</td>\n",
              "      <td>-2.248</td>\n",
              "      <td>0.671</td>\n",
              "      <td>-15.361</td>\n",
              "      <td>-1.190</td>\n",
              "      <td>-5.015</td>\n",
              "      <td>-0.956</td>\n",
              "      <td>-5.707</td>\n",
              "      <td>0.682</td>\n",
              "      <td>-4.293</td>\n",
              "      <td>-3.011</td>\n",
              "      <td>-5.636</td>\n",
              "      <td>-0.621</td>\n",
              "      <td>-1.953</td>\n",
              "      <td>0.193</td>\n",
              "      <td>-7.558</td>\n",
              "      <td>-1.027</td>\n",
              "      <td>-5.402</td>\n",
              "      <td>-1.485</td>\n",
              "      <td>-1.312</td>\n",
              "      <td>-6.063</td>\n",
              "      <td>-5.564</td>\n",
              "      <td>-11.495</td>\n",
              "      <td>-7.233</td>\n",
              "      <td>-3.601</td>\n",
              "      <td>-6.653</td>\n",
              "      <td>-6.989</td>\n",
              "      <td>-6.887</td>\n",
              "      <td>-0.244</td>\n",
              "      <td>-0.895</td>\n",
              "      <td>-0.641</td>\n",
              "      <td>-2.716</td>\n",
              "      <td>-1.343</td>\n",
              "      <td>-4.293</td>\n",
              "      <td>-3.255</td>\n",
              "      <td>-7.080</td>\n",
              "      <td>-2.116</td>\n",
              "      <td>-8.372</td>\n",
              "      <td>-8.698</td>\n",
              "      <td>-18.351</td>\n",
              "      <td>-3.387</td>\n",
              "      <td>-0.407</td>\n",
              "      <td>-5.066</td>\n",
              "      <td>-7.741</td>\n",
              "      <td>-3.469</td>\n",
              "      <td>-4.303</td>\n",
              "      <td>-8.331</td>\n",
              "      <td>-10.162</td>\n",
              "      <td>-0.712</td>\n",
              "      <td>0</td>\n",
              "      <td>1</td>\n",
              "      <td>0</td>\n",
              "    </tr>\n",
              "    <tr>\n",
              "      <th>4</th>\n",
              "      <td>a</td>\n",
              "      <td>0.925781</td>\n",
              "      <td>-3.143</td>\n",
              "      <td>0.804</td>\n",
              "      <td>-7.375</td>\n",
              "      <td>-1.556</td>\n",
              "      <td>-0.458</td>\n",
              "      <td>-1.577</td>\n",
              "      <td>-2.940</td>\n",
              "      <td>-0.437</td>\n",
              "      <td>-0.417</td>\n",
              "      <td>-7.558</td>\n",
              "      <td>-1.973</td>\n",
              "      <td>-3.052</td>\n",
              "      <td>-3.306</td>\n",
              "      <td>-9.196</td>\n",
              "      <td>-2.116</td>\n",
              "      <td>2.431</td>\n",
              "      <td>-4.608</td>\n",
              "      <td>-1.078</td>\n",
              "      <td>-22.603</td>\n",
              "      <td>-3.723</td>\n",
              "      <td>-2.797</td>\n",
              "      <td>1.699</td>\n",
              "      <td>-1.465</td>\n",
              "      <td>-8.799</td>\n",
              "      <td>-1.872</td>\n",
              "      <td>-11.515</td>\n",
              "      <td>-5.717</td>\n",
              "      <td>1.465</td>\n",
              "      <td>-1.750</td>\n",
              "      <td>-3.235</td>\n",
              "      <td>-5.452</td>\n",
              "      <td>-9.562</td>\n",
              "      <td>-2.075</td>\n",
              "      <td>-3.215</td>\n",
              "      <td>-5.035</td>\n",
              "      <td>-1.394</td>\n",
              "      <td>-6.429</td>\n",
              "      <td>-8.647</td>\n",
              "      <td>0.905</td>\n",
              "      <td>-2.014</td>\n",
              "      <td>-3.652</td>\n",
              "      <td>-0.804</td>\n",
              "      <td>3.306</td>\n",
              "      <td>-2.553</td>\n",
              "      <td>-3.438</td>\n",
              "      <td>-3.896</td>\n",
              "      <td>-1.709</td>\n",
              "      <td>-4.730</td>\n",
              "      <td>-0.661</td>\n",
              "      <td>-7.070</td>\n",
              "      <td>-5.717</td>\n",
              "      <td>-3.408</td>\n",
              "      <td>-1.943</td>\n",
              "      <td>5.147</td>\n",
              "      <td>-1.119</td>\n",
              "      <td>-0.966</td>\n",
              "      <td>-2.279</td>\n",
              "      <td>-9.186</td>\n",
              "      <td>-5.168</td>\n",
              "      <td>-6.612</td>\n",
              "      <td>-6.134</td>\n",
              "      <td>-17.822</td>\n",
              "      <td>-13.011</td>\n",
              "      <td>-5.259</td>\n",
              "      <td>0</td>\n",
              "      <td>1</td>\n",
              "      <td>0</td>\n",
              "    </tr>\n",
              "  </tbody>\n",
              "</table>\n",
              "</div>"
            ],
            "text/plain": [
              "  subject identifier  ...  matching condition_S2 nomatch\n",
              "0                  a  ...                              0\n",
              "1                  c  ...                              0\n",
              "2                  c  ...                              0\n",
              "3                  a  ...                              0\n",
              "4                  a  ...                              0\n",
              "\n",
              "[5 rows x 69 columns]"
            ]
          },
          "metadata": {
            "tags": []
          },
          "execution_count": 4
        }
      ]
    },
    {
      "cell_type": "code",
      "metadata": {
        "id": "va5vG_LzxaDy",
        "colab_type": "code",
        "colab": {
          "base_uri": "https://localhost:8080/",
          "height": 51
        },
        "outputId": "ea8f101a-d501-412c-ac03-1790057e4f48"
      },
      "source": [
        "\n",
        "X_train, X_test, y_train, y_test = train_test_split(EEG_data.drop(['subject identifier'], axis=1), ## independent variables (X)\n",
        "                                                    pd.Series(EEG_data['subject identifier']), ## dependent outcome variable (Y)\n",
        "                                                    test_size=0.3, random_state=seed)\n",
        "\n",
        "print('Number of observations in the train set: ' + str(X_train.shape[0]))\n",
        "print('Number of observations in the test set: ' + str(X_test.shape[0]))"
      ],
      "execution_count": null,
      "outputs": [
        {
          "output_type": "stream",
          "text": [
            "Number of observations in the train set: 83865\n",
            "Number of observations in the test set: 35943\n"
          ],
          "name": "stdout"
        }
      ]
    },
    {
      "cell_type": "code",
      "metadata": {
        "id": "PPF82nXLx2Ml",
        "colab_type": "code",
        "colab": {
          "base_uri": "https://localhost:8080/",
          "height": 154
        },
        "outputId": "2ce12469-4450-4b16-f065-8c721ecfea55"
      },
      "source": [
        "#Create a Random Forest Classifier\n",
        "clf=RandomForestClassifier(n_estimators=50)\n",
        "\n",
        "#Train the model using the training sets \n",
        "clf.fit(X_train,y_train)\n"
      ],
      "execution_count": null,
      "outputs": [
        {
          "output_type": "execute_result",
          "data": {
            "text/plain": [
              "RandomForestClassifier(bootstrap=True, ccp_alpha=0.0, class_weight=None,\n",
              "                       criterion='gini', max_depth=None, max_features='auto',\n",
              "                       max_leaf_nodes=None, max_samples=None,\n",
              "                       min_impurity_decrease=0.0, min_impurity_split=None,\n",
              "                       min_samples_leaf=1, min_samples_split=2,\n",
              "                       min_weight_fraction_leaf=0.0, n_estimators=50,\n",
              "                       n_jobs=None, oob_score=False, random_state=None,\n",
              "                       verbose=0, warm_start=False)"
            ]
          },
          "metadata": {
            "tags": []
          },
          "execution_count": 6
        }
      ]
    },
    {
      "cell_type": "code",
      "metadata": {
        "id": "rC49X29eyoPl",
        "colab_type": "code",
        "colab": {
          "base_uri": "https://localhost:8080/",
          "height": 223
        },
        "outputId": "633c05cd-6bd7-4c6b-c6e8-3386a6075d88"
      },
      "source": [
        "y_pred = clf.predict(X_test) #predict on test set\n",
        "\n",
        "print('Classification report:\\n')\n",
        "print(classification_report(y_test, y_pred)) #print the performance\n",
        "print('Total accuracy score: %.2f' % accuracy_score(y_test, y_pred))"
      ],
      "execution_count": null,
      "outputs": [
        {
          "output_type": "stream",
          "text": [
            "Classification report:\n",
            "\n",
            "              precision    recall  f1-score   support\n",
            "\n",
            "           a       0.95      0.96      0.95     18038\n",
            "           c       0.96      0.95      0.95     17905\n",
            "\n",
            "    accuracy                           0.95     35943\n",
            "   macro avg       0.95      0.95      0.95     35943\n",
            "weighted avg       0.95      0.95      0.95     35943\n",
            "\n",
            "Total accuracy score: 0.95\n"
          ],
          "name": "stdout"
        }
      ]
    },
    {
      "cell_type": "code",
      "metadata": {
        "id": "tvWFGGKL4H4z",
        "colab_type": "code",
        "colab": {
          "base_uri": "https://localhost:8080/",
          "height": 223
        },
        "outputId": "e77f35b1-e3f2-4a92-9701-cd9f682e531e"
      },
      "source": [
        "y_pred,y_test"
      ],
      "execution_count": null,
      "outputs": [
        {
          "output_type": "execute_result",
          "data": {
            "text/plain": [
              "(array(['c', 'c', 'c', ..., 'a', 'a', 'c'], dtype=object), 105691    c\n",
              " 68176     c\n",
              " 105817    c\n",
              " 99188     a\n",
              " 33714     c\n",
              "          ..\n",
              " 84917     a\n",
              " 107189    c\n",
              " 73364     a\n",
              " 19473     a\n",
              " 71833     c\n",
              " Name: subject identifier, Length: 35943, dtype: object)"
            ]
          },
          "metadata": {
            "tags": []
          },
          "execution_count": 8
        }
      ]
    },
    {
      "cell_type": "code",
      "metadata": {
        "id": "VoFY1WgI4kUm",
        "colab_type": "code",
        "colab": {
          "base_uri": "https://localhost:8080/",
          "height": 257
        },
        "outputId": "45f67b2e-a654-48f2-aa99-4a2a9871032b"
      },
      "source": [
        "clf.feature_importances_"
      ],
      "execution_count": null,
      "outputs": [
        {
          "output_type": "execute_result",
          "data": {
            "text/plain": [
              "array([0.02251821, 0.01115687, 0.01263122, 0.0113978 , 0.01277421,\n",
              "       0.02588561, 0.01743818, 0.03117367, 0.01372278, 0.01462759,\n",
              "       0.00987207, 0.0191854 , 0.01429901, 0.0141362 , 0.01046316,\n",
              "       0.01356189, 0.00876834, 0.0103424 , 0.02816513, 0.0148284 ,\n",
              "       0.0123907 , 0.01449415, 0.00982856, 0.01156415, 0.01058669,\n",
              "       0.01023879, 0.00973848, 0.01325399, 0.01640573, 0.02058269,\n",
              "       0.01284922, 0.01059128, 0.01404923, 0.01081991, 0.02572388,\n",
              "       0.05096154, 0.01339009, 0.01117409, 0.01221985, 0.01083314,\n",
              "       0.02175875, 0.0126439 , 0.01418524, 0.01031085, 0.01612869,\n",
              "       0.01263304, 0.01733037, 0.01366269, 0.01319525, 0.01270151,\n",
              "       0.01120271, 0.01378781, 0.01295481, 0.01197199, 0.01020849,\n",
              "       0.0140755 , 0.02427759, 0.01983559, 0.00867887, 0.01010907,\n",
              "       0.00824701, 0.01110221, 0.01967925, 0.01313063, 0.03950199,\n",
              "       0.00369038, 0.00221696, 0.00213456])"
            ]
          },
          "metadata": {
            "tags": []
          },
          "execution_count": 9
        }
      ]
    },
    {
      "cell_type": "code",
      "metadata": {
        "id": "cTVUE-3vzQ3_",
        "colab_type": "code",
        "colab": {
          "base_uri": "https://localhost:8080/",
          "height": 282
        },
        "outputId": "cf0d41d0-dd3b-4b09-d85e-cff67730991b"
      },
      "source": [
        "feat_importances = pd.Series(clf.feature_importances_)\n",
        "feat_importances.nlargest(4).plot(kind='barh')"
      ],
      "execution_count": null,
      "outputs": [
        {
          "output_type": "execute_result",
          "data": {
            "text/plain": [
              "<matplotlib.axes._subplots.AxesSubplot at 0x7f94955d3518>"
            ]
          },
          "metadata": {
            "tags": []
          },
          "execution_count": 18
        },
        {
          "output_type": "display_data",
          "data": {
            "image/png": "[encoded data removed]",
            "text/plain": [
              "<Figure size 432x288 with 1 Axes>"
            ]
          },
          "metadata": {
            "tags": [],
            "needs_background": "light"
          }
        }
      ]
    },
    {
      "cell_type": "code",
      "metadata": {
        "id": "M3uNqW6TXDHg",
        "colab_type": "code",
        "colab": {
          "base_uri": "https://localhost:8080/",
          "height": 34
        },
        "outputId": "1682cd4c-8a7f-49f9-d7ab-da52da6f1993"
      },
      "source": [
        "X_train.shape"
      ],
      "execution_count": null,
      "outputs": [
        {
          "output_type": "execute_result",
          "data": {
            "text/plain": [
              "(83865, 68)"
            ]
          },
          "metadata": {
            "tags": []
          },
          "execution_count": 10
        }
      ]
    },
    {
      "cell_type": "code",
      "metadata": {
        "id": "B-geaY34ObwM",
        "colab_type": "code",
        "colab": {}
      },
      "source": [
        "model = tf.keras.models.Sequential([\n",
        "  tf.keras.layers.Flatten(input_shape=(68,1)),\n",
        "  tf.keras.layers.Dense(64, activation='relu'),\n",
        "  tf.keras.layers.Dense(32, activation='relu'),\n",
        "  #tf.keras.layers.Dropout(0.2),\n",
        "  tf.keras.layers.Dense(1,activation=\"sigmoid\")\n",
        "])"
      ],
      "execution_count": null,
      "outputs": []
    },
    {
      "cell_type": "code",
      "metadata": {
        "id": "9DD5RFy1OnS-",
        "colab_type": "code",
        "colab": {}
      },
      "source": [
        "model.compile(optimizer='adam',\n",
        "              loss=\"binary_crossentropy\",\n",
        "              metrics=['accuracy'])"
      ],
      "execution_count": null,
      "outputs": []
    },
    {
      "cell_type": "code",
      "metadata": {
        "id": "lVIsCw2S_r-5",
        "colab_type": "code",
        "colab": {
          "base_uri": "https://localhost:8080/",
          "height": 34
        },
        "outputId": "1fe3edcc-0999-4deb-c73e-afd2e2813227"
      },
      "source": [
        "y_train"
      ],
      "execution_count": null,
      "outputs": [
        {
          "output_type": "execute_result",
          "data": {
            "text/plain": [
              "array([1, 1, 0, ..., 1, 0, 0])"
            ]
          },
          "metadata": {
            "tags": []
          },
          "execution_count": 22
        }
      ]
    },
    {
      "cell_type": "code",
      "metadata": {
        "id": "d6nPMCvYVi9Q",
        "colab_type": "code",
        "colab": {
          "base_uri": "https://localhost:8080/",
          "height": 202
        },
        "outputId": "93fd5abc-21af-4685-af4e-593953c47e3f"
      },
      "source": [
        "model.fit(X_train, y_train, epochs=5,batch_size=64)"
      ],
      "execution_count": null,
      "outputs": [
        {
          "output_type": "stream",
          "text": [
            "Epoch 1/5\n",
            "1311/1311 [==============================] - 2s 1ms/step - loss: 0.4273 - accuracy: 0.8110\n",
            "Epoch 2/5\n",
            "1311/1311 [==============================] - 2s 1ms/step - loss: 0.2047 - accuracy: 0.9158\n",
            "Epoch 3/5\n",
            "1311/1311 [==============================] - 2s 1ms/step - loss: 0.1441 - accuracy: 0.9432\n",
            "Epoch 4/5\n",
            "1311/1311 [==============================] - 2s 1ms/step - loss: 0.1112 - accuracy: 0.9573\n",
            "Epoch 5/5\n",
            "1311/1311 [==============================] - 2s 1ms/step - loss: 0.0888 - accuracy: 0.9660\n"
          ],
          "name": "stdout"
        },
        {
          "output_type": "execute_result",
          "data": {
            "text/plain": [
              "<tensorflow.python.keras.callbacks.History at 0x7fa3c9a55240>"
            ]
          },
          "metadata": {
            "tags": []
          },
          "execution_count": 23
        }
      ]
    },
    {
      "cell_type": "code",
      "metadata": {
        "id": "U6N6De1KZHrb",
        "colab_type": "code",
        "colab": {}
      },
      "source": [
        "y_train = [1 if value=='a' else 0 for value in y_train]"
      ],
      "execution_count": null,
      "outputs": []
    },
    {
      "cell_type": "code",
      "metadata": {
        "id": "PXQFVKpCZjAt",
        "colab_type": "code",
        "colab": {}
      },
      "source": [
        "y_train = np.array(y_train)"
      ],
      "execution_count": null,
      "outputs": []
    },
    {
      "cell_type": "code",
      "metadata": {
        "id": "bdTjXQeKZfKU",
        "colab_type": "code",
        "colab": {
          "base_uri": "https://localhost:8080/",
          "height": 370
        },
        "outputId": "0987324e-84e3-4dac-cf41-b7abd2190280"
      },
      "source": [
        "model.fit(X_train, y_train, epochs=10,batch_size=64)"
      ],
      "execution_count": null,
      "outputs": [
        {
          "output_type": "stream",
          "text": [
            "Epoch 1/10\n",
            "1311/1311 [==============================] - 2s 1ms/step - loss: 0.0258 - accuracy: 0.9981\n",
            "Epoch 2/10\n",
            "1311/1311 [==============================] - 2s 1ms/step - loss: 2.4658e-07 - accuracy: 1.0000\n",
            "Epoch 3/10\n",
            "1311/1311 [==============================] - 2s 2ms/step - loss: 2.4439e-07 - accuracy: 1.0000\n",
            "Epoch 4/10\n",
            "1311/1311 [==============================] - 2s 2ms/step - loss: 2.3973e-07 - accuracy: 1.0000\n",
            "Epoch 5/10\n",
            "1311/1311 [==============================] - 2s 2ms/step - loss: 2.3101e-07 - accuracy: 1.0000\n",
            "Epoch 6/10\n",
            "1311/1311 [==============================] - 2s 1ms/step - loss: 2.1640e-07 - accuracy: 1.0000\n",
            "Epoch 7/10\n",
            "1311/1311 [==============================] - 2s 1ms/step - loss: 1.9254e-07 - accuracy: 1.0000\n",
            "Epoch 8/10\n",
            "1311/1311 [==============================] - 2s 1ms/step - loss: 1.6080e-07 - accuracy: 1.0000\n",
            "Epoch 9/10\n",
            "1311/1311 [==============================] - 2s 1ms/step - loss: 1.1957e-07 - accuracy: 1.0000\n",
            "Epoch 10/10\n",
            "1311/1311 [==============================] - 2s 1ms/step - loss: 8.3018e-08 - accuracy: 1.0000\n"
          ],
          "name": "stdout"
        },
        {
          "output_type": "execute_result",
          "data": {
            "text/plain": [
              "<tensorflow.python.keras.callbacks.History at 0x7fa3c88c5128>"
            ]
          },
          "metadata": {
            "tags": []
          },
          "execution_count": 26
        }
      ]
    },
    {
      "cell_type": "code",
      "metadata": {
        "id": "_i1YVwXzaj7n",
        "colab_type": "code",
        "colab": {}
      },
      "source": [
        "y_test = [1 if value=='a' else 0 for value in y_test]\n",
        "y_test = np.array(y_test)"
      ],
      "execution_count": null,
      "outputs": []
    },
    {
      "cell_type": "code",
      "metadata": {
        "id": "SMrQ4nZgYsia",
        "colab_type": "code",
        "colab": {
          "base_uri": "https://localhost:8080/",
          "height": 50
        },
        "outputId": "dd368ede-c0d3-4b00-e7a9-5424a40c92af"
      },
      "source": [
        "model.evaluate(X_test,  y_test, verbose=2)"
      ],
      "execution_count": null,
      "outputs": [
        {
          "output_type": "stream",
          "text": [
            "1124/1124 - 1s - loss: 5.5907e-08 - accuracy: 1.0000\n"
          ],
          "name": "stdout"
        },
        {
          "output_type": "execute_result",
          "data": {
            "text/plain": [
              "[5.590698393120874e-08, 1.0]"
            ]
          },
          "metadata": {
            "tags": []
          },
          "execution_count": 28
        }
      ]
    },
    {
      "cell_type": "code",
      "metadata": {
        "id": "3tYd_3PS86oz",
        "colab_type": "code",
        "colab": {}
      },
      "source": [
        ""
      ],
      "execution_count": null,
      "outputs": []
    }
  ]
}